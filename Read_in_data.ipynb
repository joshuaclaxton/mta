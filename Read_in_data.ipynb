{
 "cells": [
  {
   "cell_type": "code",
   "execution_count": 2,
   "metadata": {},
   "outputs": [],
   "source": [
    "# Use python to download all the txt files from April - June 2019\n",
    "\n",
    "import pandas as pd\n",
    "import urllib.request\n"
   ]
  },
  {
   "cell_type": "code",
   "execution_count": 4,
   "metadata": {},
   "outputs": [],
   "source": [
    "# Scrape mta website for turnstile entries and exits within aformentioned date range, from respective text files\n",
    "\n",
    "url = \"http://web.mta.info/developers/data/nyct/turnstile/turnstile_{}.txt\"\n",
    "week_nums = [190406, 190413, 190420, 190427, 190504, 190511, 190518, 190525, 190601,\n",
    "190608, 190615, 190622, 190629]\n",
    "\n",
    "for week_num in week_nums:\n",
    "    urllib.request.urlretrieve(f\"http://web.mta.info/developers/data/nyct/turnstile/turnstile_{week_num}.txt\", f\"/Users/joshua.claxton/Documents/Metis_projects/project_1/data/turnstile_{week_num}.txt\")"
   ]
  },
  {
   "cell_type": "code",
   "execution_count": 5,
   "metadata": {},
   "outputs": [],
   "source": [
    "# Extract data to pandas using sqlalchemy\n",
    "\n",
    "from sqlalchemy import create_engine\n",
    "import pandas as pd"
   ]
  },
  {
   "cell_type": "code",
   "execution_count": null,
   "metadata": {},
   "outputs": [],
   "source": [
    "engine = create_engine(\"sqlite:///mta.db\")\n",
    "all_data = pd.read_sql('SELECT * FROM mta_data;', engine)"
   ]
  }
 ],
 "metadata": {
  "kernelspec": {
   "display_name": "Python 3",
   "language": "python",
   "name": "python3"
  },
  "language_info": {
   "codemirror_mode": {
    "name": "ipython",
    "version": 3
   },
   "file_extension": ".py",
   "mimetype": "text/x-python",
   "name": "python",
   "nbconvert_exporter": "python",
   "pygments_lexer": "ipython3",
   "version": "3.8.5"
  }
 },
 "nbformat": 4,
 "nbformat_minor": 4
}
